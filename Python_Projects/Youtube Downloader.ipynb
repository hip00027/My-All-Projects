{
 "cells": [
  {
   "cell_type": "code",
   "execution_count": 1,
   "id": "5e0497e2-9bad-4bb5-b017-95e2e3e2b4a6",
   "metadata": {},
   "outputs": [
    {
     "name": "stdout",
     "output_type": "stream",
     "text": [
      "Requirement already satisfied: pytube3 in c:\\users\\hina parashar\\anaconda3\\lib\\site-packages (9.6.4)\n",
      "Requirement already satisfied: typing-extensions in c:\\users\\hina parashar\\anaconda3\\lib\\site-packages (from pytube3) (4.11.0)\n",
      "Note: you may need to restart the kernel to use updated packages.\n"
     ]
    }
   ],
   "source": [
    "pip install pytube3"
   ]
  },
  {
   "cell_type": "code",
   "execution_count": 1,
   "id": "731a79dc-f832-47a5-99de-df75a17e8f64",
   "metadata": {},
   "outputs": [
    {
     "name": "stdout",
     "output_type": "stream",
     "text": [
      "Requirement already satisfied: pytube in c:\\users\\hina parashar\\anaconda3\\lib\\site-packages (15.0.0)Note: you may need to restart the kernel to use updated packages.\n",
      "\n"
     ]
    }
   ],
   "source": [
    "pip install --upgrade pytube"
   ]
  },
  {
   "cell_type": "code",
   "execution_count": 3,
   "id": "a02578dc-0a01-4c5b-8493-e72077822205",
   "metadata": {},
   "outputs": [],
   "source": [
    "from pytube import YouTube   #pytube is library and YouTube is module"
   ]
  },
  {
   "cell_type": "code",
   "execution_count": 5,
   "id": "4b1323e3-bd8f-4e64-a6ba-4d518e84323c",
   "metadata": {},
   "outputs": [
    {
     "name": "stdout",
     "output_type": "stream",
     "text": [
      "Collecting yt-dlp\n",
      "  Downloading yt_dlp-2024.8.6-py3-none-any.whl.metadata (170 kB)\n",
      "     ---------------------------------------- 0.0/170.1 kB ? eta -:--:--\n",
      "     -- ------------------------------------- 10.2/170.1 kB ? eta -:--:--\n",
      "     ---- -------------------------------- 20.5/170.1 kB 217.9 kB/s eta 0:00:01\n",
      "     -------- ---------------------------- 41.0/170.1 kB 281.8 kB/s eta 0:00:01\n",
      "     ---------------------------------- - 163.8/170.1 kB 984.6 kB/s eta 0:00:01\n",
      "     ------------------------------------ 170.1/170.1 kB 929.7 kB/s eta 0:00:00\n",
      "Requirement already satisfied: brotli in c:\\users\\hina parashar\\anaconda3\\lib\\site-packages (from yt-dlp) (1.0.9)\n",
      "Requirement already satisfied: certifi in c:\\users\\hina parashar\\anaconda3\\lib\\site-packages (from yt-dlp) (2024.7.4)\n",
      "Collecting mutagen (from yt-dlp)\n",
      "  Downloading mutagen-1.47.0-py3-none-any.whl.metadata (1.7 kB)\n",
      "Collecting pycryptodomex (from yt-dlp)\n",
      "  Downloading pycryptodomex-3.20.0-cp35-abi3-win_amd64.whl.metadata (3.4 kB)\n",
      "Requirement already satisfied: requests<3,>=2.32.2 in c:\\users\\hina parashar\\anaconda3\\lib\\site-packages (from yt-dlp) (2.32.3)\n",
      "Requirement already satisfied: urllib3<3,>=1.26.17 in c:\\users\\hina parashar\\anaconda3\\lib\\site-packages (from yt-dlp) (2.2.2)\n",
      "Collecting websockets>=12.0 (from yt-dlp)\n",
      "  Downloading websockets-13.0-cp312-cp312-win_amd64.whl.metadata (6.9 kB)\n",
      "Requirement already satisfied: charset-normalizer<4,>=2 in c:\\users\\hina parashar\\anaconda3\\lib\\site-packages (from requests<3,>=2.32.2->yt-dlp) (2.0.4)\n",
      "Requirement already satisfied: idna<4,>=2.5 in c:\\users\\hina parashar\\anaconda3\\lib\\site-packages (from requests<3,>=2.32.2->yt-dlp) (3.7)\n",
      "Downloading yt_dlp-2024.8.6-py3-none-any.whl (3.1 MB)\n",
      "   ---------------------------------------- 0.0/3.1 MB ? eta -:--:--\n",
      "   ----- ---------------------------------- 0.4/3.1 MB 8.5 MB/s eta 0:00:01\n",
      "   -------------- ------------------------- 1.1/3.1 MB 14.3 MB/s eta 0:00:01\n",
      "   ------------------------- -------------- 2.0/3.1 MB 18.3 MB/s eta 0:00:01\n",
      "   -------------------------------------- - 3.0/3.1 MB 17.3 MB/s eta 0:00:01\n",
      "   ---------------------------------------- 3.1/3.1 MB 15.4 MB/s eta 0:00:00\n",
      "Downloading websockets-13.0-cp312-cp312-win_amd64.whl (152 kB)\n",
      "   ---------------------------------------- 0.0/152.2 kB ? eta -:--:--\n",
      "   ---------------------------------------- 152.2/152.2 kB 8.9 MB/s eta 0:00:00\n",
      "Downloading mutagen-1.47.0-py3-none-any.whl (194 kB)\n",
      "   ---------------------------------------- 0.0/194.4 kB ? eta -:--:--\n",
      "   --------------------------------------- 194.4/194.4 kB 11.5 MB/s eta 0:00:00\n",
      "Downloading pycryptodomex-3.20.0-cp35-abi3-win_amd64.whl (1.8 MB)\n",
      "   ---------------------------------------- 0.0/1.8 MB ? eta -:--:--\n",
      "   ---------------- ----------------------- 0.7/1.8 MB 15.7 MB/s eta 0:00:01\n",
      "   -------------------------------------- - 1.7/1.8 MB 18.1 MB/s eta 0:00:01\n",
      "   ---------------------------------------- 1.8/1.8 MB 16.1 MB/s eta 0:00:00\n",
      "Installing collected packages: websockets, pycryptodomex, mutagen, yt-dlp\n",
      "Successfully installed mutagen-1.47.0 pycryptodomex-3.20.0 websockets-13.0 yt-dlp-2024.8.6\n",
      "Note: you may need to restart the kernel to use updated packages.\n"
     ]
    }
   ],
   "source": [
    "pip install yt-dlp # yt-dlp is library\n"
   ]
  },
  {
   "cell_type": "code",
   "execution_count": 9,
   "id": "23d07a9c-d3d5-482c-a69d-56eb06739707",
   "metadata": {},
   "outputs": [
    {
     "name": "stdin",
     "output_type": "stream",
     "text": [
      "Enter Youtube Link https://youtu.be/gks3YxVmcFw?si=I1w3cAcovqfOxIB7\n"
     ]
    }
   ],
   "source": [
    "link = input('Enter Youtube Link')\n",
    "yt = YouTube(link)"
   ]
  },
  {
   "cell_type": "code",
   "execution_count": 11,
   "id": "fbd72638-6dce-433e-a94c-3f4aa1f4a093",
   "metadata": {},
   "outputs": [
    {
     "name": "stdout",
     "output_type": "stream",
     "text": [
      "Title: SCOTLAND 🏴󠁧󠁢󠁳󠁣󠁴󠁿 | 3-DAY TRAVEL GUIDE 2024 | TOP 15 THINGS TO DO!\n",
      "Views: 1045\n",
      "Duration :  647\n",
      "Description: None\n",
      "Ratings: None\n"
     ]
    }
   ],
   "source": [
    "print(\"Title:\", yt.title)  # printing title\n",
    "print(\"Views:\", yt.views) # to get no. of veiws\n",
    "print (\"Duration : \", yt.length) # to get the length of video\n",
    "print(\"Description:\", yt.description)  # get description\n",
    "print(\"Ratings:\", yt.rating) # get ratings"
   ]
  },
  {
   "cell_type": "code",
   "execution_count": 15,
   "id": "ee57e957-9b7c-41e9-b41e-649830b67666",
   "metadata": {},
   "outputs": [
    {
     "name": "stdin",
     "output_type": "stream",
     "text": [
      "Do you want to download this video? (yes/no):  yes\n"
     ]
    },
    {
     "name": "stdout",
     "output_type": "stream",
     "text": [
      "Downloading...\n",
      "[youtube] Extracting URL: https://youtu.be/gks3YxVmcFw?si=I1w3cAcovqfOxIB7\n",
      "[youtube] gks3YxVmcFw: Downloading webpage\n",
      "[youtube] gks3YxVmcFw: Downloading ios player API JSON\n",
      "[youtube] gks3YxVmcFw: Downloading web creator player API JSON\n",
      "[youtube] gks3YxVmcFw: Downloading player bcd1f224\n",
      "[youtube] gks3YxVmcFw: Downloading m3u8 information\n",
      "[info] gks3YxVmcFw: Downloading 1 format(s): 18\n",
      "[download] Destination: SCOTLAND 🏴󠁧󠁢󠁳󠁣󠁴󠁿 ｜ 3-DAY TRAVEL GUIDE 2024 ｜ TOP 15 THINGS TO DO! [gks3YxVmcFw].mp4\n",
      "[download] 100% of   40.86MiB in 00:00:03 at 10.68MiB/s    \n",
      "Download completed.\n"
     ]
    }
   ],
   "source": [
    "from yt_dlp import YoutubeDL  \n",
    "download_option = input(\"Do you want to download this video? (yes/no): \").lower()\n",
    "\n",
    "if download_option == \"yes\":\n",
    "    url = 'https://youtu.be/gks3YxVmcFw?si=I1w3cAcovqfOxIB7'\n",
    "    ydl_opts = {'format': 'best'}  # 'ydl_opts' is a dictionary created now and 'format': 'best' tells yt_dlp to download the best available \n",
    "                                   # quality of the video.\n",
    "    with YoutubeDL(ydl_opts) as ydl:  # creates an instance of YoutubeDL with the specified options.\n",
    "                                      # It meas - This line initializes a YoutubeDL object named ydl using the options provided \n",
    "                                      # in the ydl_opts dictionary. The with statement ensures that the object is properly set up and \n",
    "                                      # later cleaned up when done.\n",
    "        print (\"Downloading...\")\n",
    "        ydl.download([url])  #downloads the video from the specified URL.\n",
    "        print(\"Download completed.\")\n",
    "\n",
    "else:\n",
    "    print(\"Download aborted.\")\n",
    "\n",
    "\n",
    "# 'YoutubeDL' module is imported from 'yt_dlp' library and 'YoutubeDL' is used for downloading videos from YouTube and other platforms."
   ]
  },
  {
   "cell_type": "code",
   "execution_count": 17,
   "id": "1f79c152-df0f-461a-9606-68952ff12170",
   "metadata": {},
   "outputs": [
    {
     "data": {
      "text/plain": [
       "'D:\\\\Naresh i Class\\\\28 Aug 2024'"
      ]
     },
     "execution_count": 17,
     "metadata": {},
     "output_type": "execute_result"
    }
   ],
   "source": [
    "import os\n",
    "os.getcwd()  # get current working directory"
   ]
  },
  {
   "cell_type": "raw",
   "id": "859c4f52-40c0-49f8-aad0-2872fd43e927",
   "metadata": {},
   "source": [
    ">>>> Both yt-dlp and pytube are Python libraries used for downloading videos from YouTube, but they have some differences in features and usage. Here’s a brief overview of each:\r\n",
    "***************\r\n",
    "yt*************** - >> p\r\n",
    "Purpose: yt-dlp is a fork of the popular youtube-dl project. It is designed to download videos from YouTube and many other video platform# \n",
    ">> s.\r\n",
    "Features:\r\n",
    "Supports a wide range of websites beyond YouTube.\r\n",
    "Can download videos, playlists, and even entire channels.\r\n",
    "Allows downloading subtitles, metadata, and thumbnails.\r\n",
    "Supports various video and audio formats.\r\n",
    "Provides options for post-processing, such as merging video and audio files.\r\n",
    "Actively maintained with frequent updates and b# \n",
    ">> ug fixes.\r\n",
    "Usage:\r\n",
    "Ideal for users who need a versatile and powerful tool for downloading videos from multiple platforms.\r\n",
    "Suitable for advanced users who need extensive customizat# io\n",
    "\n",
    "***************n opt#*************** >> ions.\r\n",
    "pytube\r\n",
    "Purpose: pytube is a lightweight library specifically designed for downloading Y# \n",
    ">> ouTube videos.\r\n",
    "Features:\r\n",
    "Focuses solely on YouTube, making it simpler and more straightforward.\r\n",
    "Allows downloading videos and audio streams.\r\n",
    "Provides options to filter streams by resolution, file size, and type.\r\n",
    "Can extract video metadata such as title, views, duration, and description.\r\n",
    "Supports downloadi# \n",
    ">> ng entire playlists.\r\n",
    "Usage:\r\n",
    "Ideal for users who need a simple and easy-to-use tool for downloading YouTube videos.\r\n",
    "Suitable for beginners or those who only need basic downloading functionality.\r\n",
    "In summary, yt-dlp is a more comprehensive and versatile tool that supports multiple platforms and offers extensive features, while pytube is a simpler, YouTube-specific library that is easier to use for basic downloading tasks. "
   ]
  },
  {
   "cell_type": "code",
   "execution_count": null,
   "id": "be0bd7a2-5188-4a5f-bcbb-b4b450788286",
   "metadata": {},
   "outputs": [],
   "source": []
  }
 ],
 "metadata": {
  "kernelspec": {
   "display_name": "Python 3 (ipykernel)",
   "language": "python",
   "name": "python3"
  },
  "language_info": {
   "codemirror_mode": {
    "name": "ipython",
    "version": 3
   },
   "file_extension": ".py",
   "mimetype": "text/x-python",
   "name": "python",
   "nbconvert_exporter": "python",
   "pygments_lexer": "ipython3",
   "version": "3.12.4"
  }
 },
 "nbformat": 4,
 "nbformat_minor": 5
}
