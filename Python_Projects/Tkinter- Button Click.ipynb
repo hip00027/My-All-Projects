{
 "cells": [
  {
   "cell_type": "code",
   "execution_count": 5,
   "id": "f4a945c0-1533-471f-be1a-dfe6d7eaf4f4",
   "metadata": {},
   "outputs": [
    {
     "data": {
      "text/plain": [
       "''"
      ]
     },
     "execution_count": 5,
     "metadata": {},
     "output_type": "execute_result"
    }
   ],
   "source": [
    "import tkinter as tk  # tkinter : built-in Python library used to create GUI applications\n",
    "\n",
    "# Step 1 : Create main application window\n",
    "root = tk.Tk()  # This creates the main window\n",
    "root.title('Simple tkinter app')  # Sets the title of the window\n",
    "\n",
    "# tk.Tk() :\n",
    "  # it is a class provided by tkinter library. When we call tk.Tk(), we create a new instance of the main application window.\n",
    "  # This window acts as the main container for all other widgets (like buttons, labels, etc.) that we add to our application.\n",
    "\n",
    "# root : \n",
    "  # The variable root holds the reference to the main window object created by tk.Tk(). We use root to add widgets to this main window and to control \n",
    "  # the window's properties and behavior throughout the application.\n",
    "\n",
    "# Why is it necessary?: Every tkinter application needs a main window to host and display other widgets. root serves as this main container, \n",
    " # without which the application wouldn't have a visible window."
   ]
  },
  {
   "cell_type": "code",
   "execution_count": 7,
   "id": "c22a18c9-0f13-4a9d-914f-e107c476ff50",
   "metadata": {},
   "outputs": [],
   "source": [
    "# Step 2: Create a label widget and add it to the window\n",
    "\n",
    "label = tk.Label(root, text='hello Tkinter')  # Create a label with initial text\n",
    "label.pack(pady=20)  # Add the label to the window with some padding\n",
    "\n",
    "\n",
    "# tk.Label is a widget class provided by tkinter used to display text or images. In this case, it displays the text \"hello Tkinter\".\n",
    "\n",
    "# Why root?:\n",
    "   # The root parameter specifies that this label belongs to the main application window (root). This tells tkinter where to place the label.\n",
    "\n",
    "# Why create a label?: \n",
    "   # Labels are often used to display static text or images in a GUI. In this example, the label displays an initial greeting message that \n",
    "   # will change when a button is clicked.\n",
    "\n",
    "\n",
    "# What does label.pack() do?: \n",
    "  # pack() is a geometry manager in tkinter that controls how widgets are placed in the window. When you call label.pack(), \n",
    "  # it adds the label to the window and arranges it according to the pack parameters.\n",
    "\n",
    "# Why pady=20?: \n",
    "  # The pady parameter adds vertical padding (space) around the label. In this case, pady=20 adds 20 pixels of space above and below the label, \n",
    "  # making the layout look more spaced out and visually appealing.\n",
    "\n",
    "# Why use pack()?: pack() is one of several geometry managers in tkinter (others include grid() and place()). \n",
    "  # It’s used here for its simplicity in adding widgets with minimal configuration."
   ]
  },
  {
   "cell_type": "code",
   "execution_count": 9,
   "id": "5dbb9946-6eb0-4337-994d-af521a83924c",
   "metadata": {},
   "outputs": [],
   "source": [
    "# Step 3: Define the function that will be called when the button is clicked\n",
    "\n",
    "def on_button_click():\n",
    "    # Change the text of the label when the button is clicked\n",
    "    label.config(text='Button clicked')\n",
    "\n",
    "# Why label.config()?: \n",
    "    # The config() method is used to update the properties of a widget after it has been created. label.config(text='Button clicked') changes \n",
    "    # the label's text to \"Button clicked\"."
   ]
  },
  {
   "cell_type": "code",
   "execution_count": 11,
   "id": "cd18da07-df26-411c-872d-98079beed97b",
   "metadata": {},
   "outputs": [],
   "source": [
    "# Step 4: Create a button widget and add it to the window\n",
    "\n",
    "button = tk.Button(root, text='Click me', command=on_button_click)  # Create a button and link it to the function\n",
    "button.pack(pady=20)  # Add the button to the window with some padding\n",
    "\n",
    "# What is tk.Button?: \n",
    "  # tk.Button is a widget class in tkinter that creates a clickable button. This button displays the text \"Click me\".\n",
    "\n",
    "# Why root?: \n",
    "  # Similar to the label, the root parameter indicates that the button belongs to the main application window.\n",
    "\n",
    "# Why command=on_button_click?: \n",
    "  # The command parameter specifies the function to call when the button is clicked. In this case, clicking the button triggers the on_button_click() \n",
    "  # function, which changes the label's text.\n",
    "\n",
    "# Why create a button?: \n",
    " # Buttons are interactive widgets that allow users to perform actions, like triggering functions or changing the UI. \n",
    " # In this program, the button provides interaction by allowing the user to click and see a response (text change).\n",
    "\n",
    "# What does button.pack() do?: \n",
    "    # Similar to label.pack(), this adds the button to the main window and arranges it using the pack manager.\n",
    "\n",
    "# Why pady=20?: \n",
    "    # Adds 20 pixels of vertical space around the button, keeping the layout consistent and visually spaced.\n"
   ]
  },
  {
   "cell_type": "code",
   "execution_count": 13,
   "id": "f6d48cbb-a119-4ebf-be78-ac21de271215",
   "metadata": {},
   "outputs": [],
   "source": [
    "# Step 5: Run the application's event loop\n",
    "root.mainloop()  # Start the event loop to display the window and respond to user actions\n",
    "\n",
    "# What is mainloop()?: \n",
    "    # mainloop() is a method that starts the event loop of the application. This loop keeps the window open and makes the application \n",
    "    # responsive to events, such as button clicks or window closing actions.\n",
    "\n",
    "# Why use mainloop()?: \n",
    "    # Without mainloop(), the application window would open and immediately close. It essentially tells the application to wait for user \n",
    "    # interactions and respond accordingly, keeping the GUI running."
   ]
  },
  {
   "cell_type": "raw",
   "id": "81f774f0-253b-42ce-9777-2f9c8fe66162",
   "metadata": {},
   "source": [
    "Summary:\n",
    "\n",
    "> The root is the main window container for the application.\n",
    "> Widgets like labels and buttons are created and associated with root.\n",
    "> Geometry management (via pack()) arranges widgets in the window.\n",
    "> Functions define actions triggered by user interactions, such as clicking a button.\n",
    "> The event loop (mainloop()) keeps the application running and responsive.\n",
    "\n",
    "This sequence allows tkinter to build a working, interactive GUI by organizing and responding to user actions systematically."
   ]
  },
  {
   "cell_type": "code",
   "execution_count": null,
   "id": "ccd0f845-97c2-4102-8ee8-fe3534ca5fb4",
   "metadata": {},
   "outputs": [],
   "source": []
  }
 ],
 "metadata": {
  "kernelspec": {
   "display_name": "Python 3 (ipykernel)",
   "language": "python",
   "name": "python3"
  },
  "language_info": {
   "codemirror_mode": {
    "name": "ipython",
    "version": 3
   },
   "file_extension": ".py",
   "mimetype": "text/x-python",
   "name": "python",
   "nbconvert_exporter": "python",
   "pygments_lexer": "ipython3",
   "version": "3.12.4"
  }
 },
 "nbformat": 4,
 "nbformat_minor": 5
}
